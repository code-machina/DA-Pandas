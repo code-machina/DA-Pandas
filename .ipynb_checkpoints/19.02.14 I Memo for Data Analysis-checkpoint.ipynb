{
 "cells": [
  {
   "cell_type": "code",
   "execution_count": 12,
   "metadata": {},
   "outputs": [],
   "source": [
    "import numpy as np\n",
    "import pandas as pd"
   ]
  },
  {
   "cell_type": "code",
   "execution_count": 7,
   "metadata": {},
   "outputs": [
    {
     "data": {
      "text/plain": [
       "array([0, 1, 2, 3, 4, 5, 6, 7, 8])"
      ]
     },
     "execution_count": 7,
     "metadata": {},
     "output_type": "execute_result"
    }
   ],
   "source": [
    "_de_arange = np.arange(9)\n",
    "_de_arange"
   ]
  },
  {
   "cell_type": "code",
   "execution_count": 8,
   "metadata": {},
   "outputs": [
    {
     "data": {
      "text/plain": [
       "array([[0, 1, 2],\n",
       "       [3, 4, 5],\n",
       "       [6, 7, 8]])"
      ]
     },
     "execution_count": 8,
     "metadata": {},
     "output_type": "execute_result"
    }
   ],
   "source": [
    "_de_ar_reshaped = _de_arange.reshape((3,3))\n",
    "_de_ar_reshaped"
   ]
  },
  {
   "cell_type": "code",
   "execution_count": 15,
   "metadata": {},
   "outputs": [],
   "source": [
    "# required: # conda install pandas-datareader\n",
    "from pandas_datareader import data\n",
    "\n",
    "all_data = {}\n",
    "for ticker in ['AAPL', 'IBM', 'MSFT', 'GOOG']:\n",
    "    all_data[ticker] = data.DataReader(ticker, 'yahoo', '2015-01-01', '2016-01-01')\n",
    "\n",
    "price = pd.DataFrame({tic: data['Close'] for tic, data in all_data.items()})\n",
    "volume = pd.DataFrame({tic: data['Volume'] for tic, data in all_data.items()})"
   ]
  },
  {
   "cell_type": "code",
   "execution_count": 24,
   "metadata": {},
   "outputs": [
    {
     "data": {
      "text/html": [
       "<div>\n",
       "<style scoped>\n",
       "    .dataframe tbody tr th:only-of-type {\n",
       "        vertical-align: middle;\n",
       "    }\n",
       "\n",
       "    .dataframe tbody tr th {\n",
       "        vertical-align: top;\n",
       "    }\n",
       "\n",
       "    .dataframe thead th {\n",
       "        text-align: right;\n",
       "    }\n",
       "</style>\n",
       "<table border=\"1\" class=\"dataframe\">\n",
       "  <thead>\n",
       "    <tr style=\"text-align: right;\">\n",
       "      <th></th>\n",
       "      <th>AAPL</th>\n",
       "      <th>IBM</th>\n",
       "      <th>MSFT</th>\n",
       "      <th>GOOG</th>\n",
       "    </tr>\n",
       "    <tr>\n",
       "      <th>Date</th>\n",
       "      <th></th>\n",
       "      <th></th>\n",
       "      <th></th>\n",
       "      <th></th>\n",
       "    </tr>\n",
       "  </thead>\n",
       "  <tbody>\n",
       "    <tr>\n",
       "      <th>2015-12-24</th>\n",
       "      <td>108.029999</td>\n",
       "      <td>138.250000</td>\n",
       "      <td>55.669998</td>\n",
       "      <td>748.400024</td>\n",
       "    </tr>\n",
       "    <tr>\n",
       "      <th>2015-12-28</th>\n",
       "      <td>106.820000</td>\n",
       "      <td>137.610001</td>\n",
       "      <td>55.950001</td>\n",
       "      <td>762.510010</td>\n",
       "    </tr>\n",
       "    <tr>\n",
       "      <th>2015-12-29</th>\n",
       "      <td>108.739998</td>\n",
       "      <td>139.779999</td>\n",
       "      <td>56.549999</td>\n",
       "      <td>776.599976</td>\n",
       "    </tr>\n",
       "    <tr>\n",
       "      <th>2015-12-30</th>\n",
       "      <td>107.320000</td>\n",
       "      <td>139.339996</td>\n",
       "      <td>56.310001</td>\n",
       "      <td>771.000000</td>\n",
       "    </tr>\n",
       "    <tr>\n",
       "      <th>2015-12-31</th>\n",
       "      <td>105.260002</td>\n",
       "      <td>137.619995</td>\n",
       "      <td>55.480000</td>\n",
       "      <td>758.880005</td>\n",
       "    </tr>\n",
       "  </tbody>\n",
       "</table>\n",
       "</div>"
      ],
      "text/plain": [
       "                  AAPL         IBM       MSFT        GOOG\n",
       "Date                                                     \n",
       "2015-12-24  108.029999  138.250000  55.669998  748.400024\n",
       "2015-12-28  106.820000  137.610001  55.950001  762.510010\n",
       "2015-12-29  108.739998  139.779999  56.549999  776.599976\n",
       "2015-12-30  107.320000  139.339996  56.310001  771.000000\n",
       "2015-12-31  105.260002  137.619995  55.480000  758.880005"
      ]
     },
     "execution_count": 24,
     "metadata": {},
     "output_type": "execute_result"
    }
   ],
   "source": [
    "price.tail()"
   ]
  },
  {
   "cell_type": "code",
   "execution_count": 25,
   "metadata": {},
   "outputs": [
    {
     "data": {
      "text/html": [
       "<div>\n",
       "<style scoped>\n",
       "    .dataframe tbody tr th:only-of-type {\n",
       "        vertical-align: middle;\n",
       "    }\n",
       "\n",
       "    .dataframe tbody tr th {\n",
       "        vertical-align: top;\n",
       "    }\n",
       "\n",
       "    .dataframe thead th {\n",
       "        text-align: right;\n",
       "    }\n",
       "</style>\n",
       "<table border=\"1\" class=\"dataframe\">\n",
       "  <thead>\n",
       "    <tr style=\"text-align: right;\">\n",
       "      <th></th>\n",
       "      <th>AAPL</th>\n",
       "      <th>IBM</th>\n",
       "      <th>MSFT</th>\n",
       "      <th>GOOG</th>\n",
       "    </tr>\n",
       "    <tr>\n",
       "      <th>Date</th>\n",
       "      <th></th>\n",
       "      <th></th>\n",
       "      <th></th>\n",
       "      <th></th>\n",
       "    </tr>\n",
       "  </thead>\n",
       "  <tbody>\n",
       "    <tr>\n",
       "      <th>2015-12-24</th>\n",
       "      <td>13570400.0</td>\n",
       "      <td>1495200.0</td>\n",
       "      <td>9570000.0</td>\n",
       "      <td>527200.0</td>\n",
       "    </tr>\n",
       "    <tr>\n",
       "      <th>2015-12-28</th>\n",
       "      <td>26704200.0</td>\n",
       "      <td>3106900.0</td>\n",
       "      <td>21698000.0</td>\n",
       "      <td>1515300.0</td>\n",
       "    </tr>\n",
       "    <tr>\n",
       "      <th>2015-12-29</th>\n",
       "      <td>30931200.0</td>\n",
       "      <td>3943700.0</td>\n",
       "      <td>27731400.0</td>\n",
       "      <td>1765000.0</td>\n",
       "    </tr>\n",
       "    <tr>\n",
       "      <th>2015-12-30</th>\n",
       "      <td>25213800.0</td>\n",
       "      <td>2989400.0</td>\n",
       "      <td>21704500.0</td>\n",
       "      <td>1293300.0</td>\n",
       "    </tr>\n",
       "    <tr>\n",
       "      <th>2015-12-31</th>\n",
       "      <td>40635300.0</td>\n",
       "      <td>3462100.0</td>\n",
       "      <td>27334100.0</td>\n",
       "      <td>1500900.0</td>\n",
       "    </tr>\n",
       "  </tbody>\n",
       "</table>\n",
       "</div>"
      ],
      "text/plain": [
       "                  AAPL        IBM        MSFT       GOOG\n",
       "Date                                                    \n",
       "2015-12-24  13570400.0  1495200.0   9570000.0   527200.0\n",
       "2015-12-28  26704200.0  3106900.0  21698000.0  1515300.0\n",
       "2015-12-29  30931200.0  3943700.0  27731400.0  1765000.0\n",
       "2015-12-30  25213800.0  2989400.0  21704500.0  1293300.0\n",
       "2015-12-31  40635300.0  3462100.0  27334100.0  1500900.0"
      ]
     },
     "execution_count": 25,
     "metadata": {},
     "output_type": "execute_result"
    }
   ],
   "source": [
    "volume.tail()"
   ]
  },
  {
   "cell_type": "markdown",
   "metadata": {},
   "source": [
    "각 주식의 퍼센트 변화율을 계산해본다.\n",
    "\n",
    "- [한겨레: 퍼센트 변화율에 대한 기사](http://h21.hani.co.kr/arti/COLUMN/46/6194.html)\n",
    "\n",
    ">  2000년 말보다 2001년 말의 물가가 5% 올랐다고 하자. 또 2002년 말에는 2001년 말보다 6% 올랐다고 하자. 여기의 5%와 6%가 바로 ‘물가 상승률’이다. 그런데 2002년의 물가 상승률은 2001년의 물가 상승률보다 수치상으로 1만큼 크다. 바로 이 ‘1만큼의 차이’를 말할 때 ‘퍼센트 포인트’를 써서 나타낸다. 즉 “2002년의 물가 상승률은 2001년의 물가 상승률보다 1퍼센트 포인트 올랐다”라고 말한다. 참고적으로 ‘퍼센트 포인트’의 정확한 영어 표현은 ‘퍼센티지 포인트’(percentage point)다\n",
    "\n",
    "위에서 퍼센트 포인트와 퍼센트 변화율은 같은 의미이다."
   ]
  },
  {
   "cell_type": "code",
   "execution_count": 20,
   "metadata": {},
   "outputs": [
    {
     "data": {
      "text/html": [
       "<div>\n",
       "<style scoped>\n",
       "    .dataframe tbody tr th:only-of-type {\n",
       "        vertical-align: middle;\n",
       "    }\n",
       "\n",
       "    .dataframe tbody tr th {\n",
       "        vertical-align: top;\n",
       "    }\n",
       "\n",
       "    .dataframe thead th {\n",
       "        text-align: right;\n",
       "    }\n",
       "</style>\n",
       "<table border=\"1\" class=\"dataframe\">\n",
       "  <thead>\n",
       "    <tr style=\"text-align: right;\">\n",
       "      <th></th>\n",
       "      <th>AAPL</th>\n",
       "      <th>IBM</th>\n",
       "      <th>MSFT</th>\n",
       "      <th>GOOG</th>\n",
       "    </tr>\n",
       "    <tr>\n",
       "      <th>Date</th>\n",
       "      <th></th>\n",
       "      <th></th>\n",
       "      <th></th>\n",
       "      <th></th>\n",
       "    </tr>\n",
       "  </thead>\n",
       "  <tbody>\n",
       "    <tr>\n",
       "      <th>2015-12-24</th>\n",
       "      <td>-0.005340</td>\n",
       "      <td>-0.002093</td>\n",
       "      <td>-0.002687</td>\n",
       "      <td>-0.002546</td>\n",
       "    </tr>\n",
       "    <tr>\n",
       "      <th>2015-12-28</th>\n",
       "      <td>-0.011201</td>\n",
       "      <td>-0.004629</td>\n",
       "      <td>0.005030</td>\n",
       "      <td>0.018854</td>\n",
       "    </tr>\n",
       "    <tr>\n",
       "      <th>2015-12-29</th>\n",
       "      <td>0.017974</td>\n",
       "      <td>0.015769</td>\n",
       "      <td>0.010724</td>\n",
       "      <td>0.018478</td>\n",
       "    </tr>\n",
       "    <tr>\n",
       "      <th>2015-12-30</th>\n",
       "      <td>-0.013059</td>\n",
       "      <td>-0.003148</td>\n",
       "      <td>-0.004244</td>\n",
       "      <td>-0.007211</td>\n",
       "    </tr>\n",
       "    <tr>\n",
       "      <th>2015-12-31</th>\n",
       "      <td>-0.019195</td>\n",
       "      <td>-0.012344</td>\n",
       "      <td>-0.014740</td>\n",
       "      <td>-0.015720</td>\n",
       "    </tr>\n",
       "  </tbody>\n",
       "</table>\n",
       "</div>"
      ],
      "text/plain": [
       "                AAPL       IBM      MSFT      GOOG\n",
       "Date                                              \n",
       "2015-12-24 -0.005340 -0.002093 -0.002687 -0.002546\n",
       "2015-12-28 -0.011201 -0.004629  0.005030  0.018854\n",
       "2015-12-29  0.017974  0.015769  0.010724  0.018478\n",
       "2015-12-30 -0.013059 -0.003148 -0.004244 -0.007211\n",
       "2015-12-31 -0.019195 -0.012344 -0.014740 -0.015720"
      ]
     },
     "execution_count": 20,
     "metadata": {},
     "output_type": "execute_result"
    }
   ],
   "source": [
    "percent_point = price.pct_change()\n",
    "percent_point.tail()"
   ]
  },
  {
   "cell_type": "markdown",
   "metadata": {},
   "source": [
    "상관관계(.corr) 에 대해 알아보자\n",
    "\n",
    "[상관분석 : Corelation ](http://hrd.kcce.or.kr/file/download?file=d51f2a766daaadbe07ce80df7e481d6b1e9bd0fb7182d534a1d548724681396a03953d43a11c7882fc550fbced4a2d9a&fName=00d2893cf306b6985ada0beb7931186268b37f54747c4f33f92b79e01b7f58d1)\n",
    "\n",
    "위의 자료발췌\n",
    "\n",
    "- 변수간의 **관계의 정도나 방향을 하나의 수치**로 요약해 표시해 주는 지수임\n",
    "- 상관관계 정도는 수치의 0에서 **+/-1 사이의 절대값**을 나타냄\n",
    "- 상관계수는 -1에서 0, 0에서 1사이의 값을 취함. 이때 **0에 가까울 수록 상관관계는 낮아지며, 1에 가까울 수록 상관관계는 높아짐**\n",
    "- 변수 관계의 방향은 +, -로 표현함. 관계의 방향에 따라 한쪽이 증가할 때 다른 쪽도 증가하게 되는 관계, 즉 증감의 방향이 같은 경우 **+(양, 정적인)의 상관관계**가 있는 것이며, 즉 증감의 방향이 반대인 경우 **-의(음, 부적인) 상관관계**가 잇는 것으로 불 수 있음\n",
    "\n",
    "상관 계수란? 두 변수 사이의 변화량에 대한 관계를 파악하는데 사용된다.\n",
    "-1 ~ 1 사이의 값을 가진다. 0에 가까울수록 서로 관계가 없다. -1 또는 1에 가까울 수록 높은 상관관계를 가진다.\n",
    "\n"
   ]
  },
  {
   "cell_type": "markdown",
   "metadata": {},
   "source": [
    "상관분석 해석 시 유의점(Casuality)\n",
    "\n",
    "- The third-variable problem\n",
    "  - 측정되거나 측정되지 않는 다른 변수들이 결과에 영향을 주기 때문\n",
    "- Direction of casuality\n",
    "  - 상관계수는 인과관계의 방향에 대해 나타내지 않음\n",
    "- 상관관계를 인과관계로 보기는 어려움\n",
    "- 실험설계에서의 상관관계는 인과관계로 해석할 수 있음\n",
    "- 상관관계는 인과관계보다는 상호관계(interaction) 즉, 한 변수가 다른 변수에 영향을 주고, 역으로 다른 변수가 한 변수에 영향을 주는 관계"
   ]
  },
  {
   "cell_type": "markdown",
   "metadata": {},
   "source": [
    "아래는 상관계수 공식이다. \n",
    "$$ r = \\frac{Cov_{xy}}{s_xs_y} = \\frac{\\sum {(x_i - \\bar{x})(y_{i}-\\bar{y})}}{(N-1)s_xs_y} $$"
   ]
  },
  {
   "cell_type": "markdown",
   "metadata": {},
   "source": [
    "공분산(.cov, Covariance) : 두 변수의 관계를 나타내는 양\n",
    "\n",
    "[위키백과: 공분산](https://ko.wikipedia.org/wiki/%EA%B3%B5%EB%B6%84%EC%82%B0)\n",
    "\n",
    "2개의 확률션슈의 상관정도를 나타내는 값.\n",
    "음의 값: 2개의 변수중 하나의 값이 상승하는 경향을 보일 때, 다른 값도 상승하는 경향의 상관관계에 있다면, 공분산의 값은 양수가 될 것이다.\n",
    "반대로 2개의 변수중 하나의 값이 상승하는 경향을 보일때, 다른 값이 하강하는 경향을 보인다면 공분산의 값은 음수가 된다. "
   ]
  },
  {
   "cell_type": "code",
   "execution_count": 28,
   "metadata": {},
   "outputs": [
    {
     "data": {
      "text/plain": [
       "0.5501734168185448"
      ]
     },
     "execution_count": 28,
     "metadata": {},
     "output_type": "execute_result"
    }
   ],
   "source": [
    "percent_point.MSFT.corr(percent_point.IBM)"
   ]
  },
  {
   "cell_type": "code",
   "execution_count": 32,
   "metadata": {},
   "outputs": [
    {
     "data": {
      "text/plain": [
       "0.0001312719700990277"
      ]
     },
     "execution_count": 32,
     "metadata": {},
     "output_type": "execute_result"
    }
   ],
   "source": [
    "# 아래의 공분산 값은 0 에 가까우므로 상관관계가 없다고 말할 수 있지 않을까?\n",
    "percent_point.MSFT.cov(percent_point.IBM)"
   ]
  },
  {
   "cell_type": "markdown",
   "metadata": {},
   "source": [
    "# 계층적 색인(Hierarchical Indexing)\n",
    "\n",
    "축에 대해 다중(둘 이상) 색인 단계를 지정할 수 있도록 해준다. 즉, 차원이 높은(고차원) 데이터를 낮은 차원의 형식으로 다룰 수 있게 해주는 기능\n",
    "\n",
    "계층적인 색인은 데이터를 재형성하고 피벗 테이블 생성 같은 그룹 기반의 작업을 할 때 중요하게 사용된다. \n",
    "\n",
    "unstack, stack 메서드를 이용해 데이터를 새롭게 배열할 수도 있다.\n"
   ]
  },
  {
   "cell_type": "code",
   "execution_count": 37,
   "metadata": {},
   "outputs": [
    {
     "data": {
      "text/plain": [
       "a  1    1.065080\n",
       "   2   -0.836736\n",
       "   3   -0.156759\n",
       "b  1   -1.515851\n",
       "   2   -1.683422\n",
       "   3   -0.059476\n",
       "c  1    1.324136\n",
       "   2   -0.004794\n",
       "d  2    0.148151\n",
       "   3   -1.036375\n",
       "dtype: float64"
      ]
     },
     "execution_count": 37,
     "metadata": {},
     "output_type": "execute_result"
    }
   ],
   "source": [
    "data = pd.Series(np.random.randn(10), index=[['a','a','a','b','b','b','c','c','d','d'], [1,2,3,1,2,3,1,2,2,3]])\n",
    "data"
   ]
  },
  {
   "cell_type": "code",
   "execution_count": 39,
   "metadata": {},
   "outputs": [
    {
     "data": {
      "text/plain": [
       "array([-1.69200566, -0.67858569,  0.73889774,  0.96666547, -0.8587453 ,\n",
       "       -1.87079092, -0.02916478, -0.43853046,  0.38393912, -2.1706096 ])"
      ]
     },
     "execution_count": 39,
     "metadata": {},
     "output_type": "execute_result"
    }
   ],
   "source": [
    "np.random.randn(10)"
   ]
  },
  {
   "cell_type": "code",
   "execution_count": 41,
   "metadata": {},
   "outputs": [
    {
     "data": {
      "text/plain": [
       "MultiIndex(levels=[['a', 'b', 'c', 'd'], [1, 2, 3]],\n",
       "           codes=[[0, 0, 0, 1, 1, 1, 2, 2, 3, 3], [0, 1, 2, 0, 1, 2, 0, 1, 1, 2]])"
      ]
     },
     "execution_count": 41,
     "metadata": {},
     "output_type": "execute_result"
    }
   ],
   "source": [
    "data.index"
   ]
  },
  {
   "cell_type": "code",
   "execution_count": 43,
   "metadata": {},
   "outputs": [
    {
     "data": {
      "text/plain": [
       "1   -1.515851\n",
       "2   -1.683422\n",
       "3   -0.059476\n",
       "dtype: float64"
      ]
     },
     "execution_count": 43,
     "metadata": {},
     "output_type": "execute_result"
    }
   ],
   "source": [
    "data['b']"
   ]
  },
  {
   "cell_type": "code",
   "execution_count": 45,
   "metadata": {},
   "outputs": [
    {
     "data": {
      "text/plain": [
       "b  1   -1.515851\n",
       "   2   -1.683422\n",
       "   3   -0.059476\n",
       "c  1    1.324136\n",
       "   2   -0.004794\n",
       "dtype: float64"
      ]
     },
     "execution_count": 45,
     "metadata": {},
     "output_type": "execute_result"
    }
   ],
   "source": [
    "data['b':'c']"
   ]
  },
  {
   "cell_type": "code",
   "execution_count": 48,
   "metadata": {},
   "outputs": [
    {
     "data": {
      "text/plain": [
       "b  1   -1.515851\n",
       "   2   -1.683422\n",
       "   3   -0.059476\n",
       "d  2    0.148151\n",
       "   3   -1.036375\n",
       "dtype: float64"
      ]
     },
     "execution_count": 48,
     "metadata": {},
     "output_type": "execute_result"
    }
   ],
   "source": [
    "# data.ix 메서드는 deprecated 되었다.\n",
    "data.loc[['b', 'd']]"
   ]
  },
  {
   "cell_type": "code",
   "execution_count": 50,
   "metadata": {},
   "outputs": [
    {
     "data": {
      "text/plain": [
       "a   -0.836736\n",
       "b   -1.683422\n",
       "c   -0.004794\n",
       "d    0.148151\n",
       "dtype: float64"
      ]
     },
     "execution_count": 50,
     "metadata": {},
     "output_type": "execute_result"
    }
   ],
   "source": [
    "# 모든 상위 계층의, 하위 레벨이 2인 것만을 골라서 출력\n",
    "data[:,2]"
   ]
  },
  {
   "cell_type": "code",
   "execution_count": 52,
   "metadata": {},
   "outputs": [
    {
     "data": {
      "text/html": [
       "<div>\n",
       "<style scoped>\n",
       "    .dataframe tbody tr th:only-of-type {\n",
       "        vertical-align: middle;\n",
       "    }\n",
       "\n",
       "    .dataframe tbody tr th {\n",
       "        vertical-align: top;\n",
       "    }\n",
       "\n",
       "    .dataframe thead th {\n",
       "        text-align: right;\n",
       "    }\n",
       "</style>\n",
       "<table border=\"1\" class=\"dataframe\">\n",
       "  <thead>\n",
       "    <tr style=\"text-align: right;\">\n",
       "      <th></th>\n",
       "      <th>1</th>\n",
       "      <th>2</th>\n",
       "      <th>3</th>\n",
       "    </tr>\n",
       "  </thead>\n",
       "  <tbody>\n",
       "    <tr>\n",
       "      <th>a</th>\n",
       "      <td>1.065080</td>\n",
       "      <td>-0.836736</td>\n",
       "      <td>-0.156759</td>\n",
       "    </tr>\n",
       "    <tr>\n",
       "      <th>b</th>\n",
       "      <td>-1.515851</td>\n",
       "      <td>-1.683422</td>\n",
       "      <td>-0.059476</td>\n",
       "    </tr>\n",
       "    <tr>\n",
       "      <th>c</th>\n",
       "      <td>1.324136</td>\n",
       "      <td>-0.004794</td>\n",
       "      <td>NaN</td>\n",
       "    </tr>\n",
       "    <tr>\n",
       "      <th>d</th>\n",
       "      <td>NaN</td>\n",
       "      <td>0.148151</td>\n",
       "      <td>-1.036375</td>\n",
       "    </tr>\n",
       "  </tbody>\n",
       "</table>\n",
       "</div>"
      ],
      "text/plain": [
       "          1         2         3\n",
       "a  1.065080 -0.836736 -0.156759\n",
       "b -1.515851 -1.683422 -0.059476\n",
       "c  1.324136 -0.004794       NaN\n",
       "d       NaN  0.148151 -1.036375"
      ]
     },
     "execution_count": 52,
     "metadata": {},
     "output_type": "execute_result"
    }
   ],
   "source": [
    "data.unstack()"
   ]
  },
  {
   "cell_type": "code",
   "execution_count": 54,
   "metadata": {},
   "outputs": [
    {
     "data": {
      "text/plain": [
       "a  1    1.065080\n",
       "   2   -0.836736\n",
       "   3   -0.156759\n",
       "b  1   -1.515851\n",
       "   2   -1.683422\n",
       "   3   -0.059476\n",
       "c  1    1.324136\n",
       "   2   -0.004794\n",
       "d  2    0.148151\n",
       "   3   -1.036375\n",
       "dtype: float64"
      ]
     },
     "execution_count": 54,
     "metadata": {},
     "output_type": "execute_result"
    }
   ],
   "source": [
    "data.unstack().stack()"
   ]
  },
  {
   "cell_type": "code",
   "execution_count": 60,
   "metadata": {},
   "outputs": [],
   "source": [
    "from scipy import stats"
   ]
  },
  {
   "cell_type": "code",
   "execution_count": 62,
   "metadata": {},
   "outputs": [
    {
     "data": {
      "text/plain": [
       "1.4897503188505912"
      ]
     },
     "execution_count": 62,
     "metadata": {},
     "output_type": "execute_result"
    }
   ],
   "source": [
    "stats.entropy([1,2,3,4,5])"
   ]
  },
  {
   "cell_type": "code",
   "execution_count": 78,
   "metadata": {},
   "outputs": [
    {
     "data": {
      "text/plain": [
       "2.484906649788001"
      ]
     },
     "execution_count": 78,
     "metadata": {},
     "output_type": "execute_result"
    }
   ],
   "source": [
    "password = 'Rjsqjarla88@@'\n",
    "password = '111111111111'\n",
    "stats.entropy([ord(x) for x in password])\n"
   ]
  }
 ],
 "metadata": {
  "kernelspec": {
   "display_name": "Python 3",
   "language": "python",
   "name": "python3"
  },
  "language_info": {
   "codemirror_mode": {
    "name": "ipython",
    "version": 3
   },
   "file_extension": ".py",
   "mimetype": "text/x-python",
   "name": "python",
   "nbconvert_exporter": "python",
   "pygments_lexer": "ipython3",
   "version": "3.7.0"
  }
 },
 "nbformat": 4,
 "nbformat_minor": 2
}
