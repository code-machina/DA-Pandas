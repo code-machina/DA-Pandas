{
 "cells": [
  {
   "cell_type": "markdown",
   "metadata": {},
   "source": [
    "# 다변량 분석\n",
    "<br>\n",
    "\n",
    "## 1. 상관분석\n",
    "<br>\n",
    "데이터 안의 두 변수 간의 관계를 알아보기 위해 상관분석(Correlation Analysis)를 수행한다.\n",
    "\n",
    "## 1.1. 피어슨 상관계수(Pearson correlation)\n",
    "<br>\n",
    "등간척도 이상으로 측정되는 두 변수들 간의 상관관계를 측정하는데 쓰인다.\n",
    "<br>\n",
    "<br>\n",
    "\n",
    "### 1.1.1. 등간 척도(interval scale)란\n",
    "<br>\n",
    "등간 척도란 연속형 자료를 나타내는 척도 중 하나로 등간, 비율 척도가 있다. 여기서 등간 척도란 **속성을 평가할 수 있는 균일한 간격을 두고 측정하는 척도**를 의미한다.\n",
    "<br>\n",
    "<br>\n",
    "\n",
    "#### 1.1.1.1. 리커트 척도(Likert scale)\n",
    "<br>\n",
    "설문 조사 등에 사용되는 심리 검사 응답 척도의 하나로, 각종 조사에서 널리 사용됨\n",
    "<br>\n",
    "\n",
    "> 리커트 척도는 문장을 제시하고 그것에 대해 대답하는 형식이다. 응답자들은 그 문장에 대한 동의/비동의 수준을 응답하고, 그 문장을 어떻게 객관식/주관적 평가를 응답한다. **응답범주에 명확한 서열성이 있어야 하며 설문지에서 문항들이 갖는 상대적인 강도를 결정한다.**[1] 5단계 척도를 사용하는 것이 많지만, 학자에 따라서는 7단계 또는 9단계 척도를 사용해야 한다고 하는 경우도 많다.\n",
    "<br>\n",
    "\n",
    "### 1.1.2. 공분산이란\n",
    "<br>\n",
    "\n",
    "> 확률론과 통계학에서, 공분산(共分散, 영어: covariance)은 2개의 확률변수의 상관정도를 나타내는 값이다.(1개의 변수의 이산정도를 나타내는 분산과는 별개임) 만약 2개의 변수중 하나의 값이 상승하는 경향을 보일 때, 다른 값도 상승하는 경향의 상관관계에 있다면, 공분산의 값은 양수가 될 것이다. 반대로 2개의 변수중 하나의 값이 상승하는 경향을 보일 때, 다른 값이 하강하는 경향을 보인다면 공분산의 값은 음수가 된다. 이렇게 공분산은 상관관계의 상승 혹은 하강하는 경향을 이해할 수 있으나 2개 변수의 측정 단위의 크기에 따라 값이 달라지므로 상관분석을 통해 정도를 파악하기에는 부적절하다. **상관분석에서는 상관관계의 정도를 나타내는 단위로 모상관계수 ρ를 사용한다.**\n",
    "<br>\n",
    "\n",
    "$$\n",
    "\\DeclareMathOperator{\\E}{\\mathbb{E}} \\E(X,Y)\n",
    "\\\\\n",
    "\\begin{matrix}\n",
    "1 & 0\\\\\n",
    "0 & 1\n",
    "\\end{matrix}\n",
    "$$\n",
    "\n",
    "### 1.1.3. 상관 분석의 기본 가정\n",
    "<br>\n",
    "상관 분석 시 아래의 가정을 기반으로 한다.\n",
    "<br>\n",
    "\n",
    "**선형성**\n",
    "<br>\n",
    "두 변인 X와 Y의 관계가 직선적인지를 알아보는 것으로 이 가정은 분포를 나타내는 *산점도*를 통하여 확인할 수 있다. <br>\n",
    "<br>\n",
    "<img src=\"https://upload.wikimedia.org/wikipedia/ko/8/8a/Scatter_plot.png\" width=\"400\">\n",
    "<br>\n",
    "\n",
    "**동변량성**\n",
    "<br>\n",
    "X의 값에 관계없이 Y의 흩어진 정도가 같은 것을 의미한다. 이분산성이 반대어이다.\n",
    "<br>\n",
    "\n",
    "**두 변인의 정규분포성**\n",
    "<br>\n",
    "두 변인의 측정치 분포가 모집단에서 모두 정규분포를 이루는 것\n",
    "<br>\n",
    "\n",
    "**무선독립표본**\n",
    "<br>\n",
    "모집단에서 표본을 뽑을 때 표본대상이 확률적으로 선정\n",
    "<br><br><br>\n",
    "\n",
    "# 출처\n",
    "<br>\n",
    "- [척도의 종류: 티스토리](https://drhongdatanote.tistory.com/8)"
   ]
  },
  {
   "cell_type": "markdown",
   "metadata": {},
   "source": [
    "# 실습\n",
    "<br>\n",
    "\n",
    "1. iris 데이터를 임포트한다.\n",
    "2. 상관계수를 구해본다.\n",
    "3. 상관 관계를 파악한다.\n",
    "\n",
    "<br>\n",
    "\n",
    "## cor 함수\n",
    "<br>\n",
    "피어슨 상관계수는 R 의 cor 함수를 사용한다."
   ]
  },
  {
   "cell_type": "code",
   "execution_count": 29,
   "metadata": {},
   "outputs": [
    {
     "data": {
      "text/html": [
       "<table>\n",
       "<thead><tr><th scope=col>Sepal.Length</th><th scope=col>Sepal.Width</th><th scope=col>Petal.Length</th><th scope=col>Petal.Width</th></tr></thead>\n",
       "<tbody>\n",
       "\t<tr><td>5.1</td><td>3.5</td><td>1.4</td><td>0.2</td></tr>\n",
       "\t<tr><td>4.9</td><td>3.0</td><td>1.4</td><td>0.2</td></tr>\n",
       "\t<tr><td>4.7</td><td>3.2</td><td>1.3</td><td>0.2</td></tr>\n",
       "\t<tr><td>4.6</td><td>3.1</td><td>1.5</td><td>0.2</td></tr>\n",
       "\t<tr><td>5.0</td><td>3.6</td><td>1.4</td><td>0.2</td></tr>\n",
       "\t<tr><td>5.4</td><td>3.9</td><td>1.7</td><td>0.4</td></tr>\n",
       "</tbody>\n",
       "</table>\n"
      ],
      "text/latex": [
       "\\begin{tabular}{r|llll}\n",
       " Sepal.Length & Sepal.Width & Petal.Length & Petal.Width\\\\\n",
       "\\hline\n",
       "\t 5.1 & 3.5 & 1.4 & 0.2\\\\\n",
       "\t 4.9 & 3.0 & 1.4 & 0.2\\\\\n",
       "\t 4.7 & 3.2 & 1.3 & 0.2\\\\\n",
       "\t 4.6 & 3.1 & 1.5 & 0.2\\\\\n",
       "\t 5.0 & 3.6 & 1.4 & 0.2\\\\\n",
       "\t 5.4 & 3.9 & 1.7 & 0.4\\\\\n",
       "\\end{tabular}\n"
      ],
      "text/markdown": [
       "\n",
       "Sepal.Length | Sepal.Width | Petal.Length | Petal.Width | \n",
       "|---|---|---|---|---|---|\n",
       "| 5.1 | 3.5 | 1.4 | 0.2 | \n",
       "| 4.9 | 3.0 | 1.4 | 0.2 | \n",
       "| 4.7 | 3.2 | 1.3 | 0.2 | \n",
       "| 4.6 | 3.1 | 1.5 | 0.2 | \n",
       "| 5.0 | 3.6 | 1.4 | 0.2 | \n",
       "| 5.4 | 3.9 | 1.7 | 0.4 | \n",
       "\n",
       "\n"
      ],
      "text/plain": [
       "  Sepal.Length Sepal.Width Petal.Length Petal.Width\n",
       "1 5.1          3.5         1.4          0.2        \n",
       "2 4.9          3.0         1.4          0.2        \n",
       "3 4.7          3.2         1.3          0.2        \n",
       "4 4.6          3.1         1.5          0.2        \n",
       "5 5.0          3.6         1.4          0.2        \n",
       "6 5.4          3.9         1.7          0.4        "
      ]
     },
     "metadata": {},
     "output_type": "display_data"
    },
    {
     "data": {
      "text/plain": [
       "               _                           \n",
       "platform       x86_64-w64-mingw32          \n",
       "arch           x86_64                      \n",
       "os             mingw32                     \n",
       "system         x86_64, mingw32             \n",
       "status                                     \n",
       "major          3                           \n",
       "minor          5.1                         \n",
       "year           2018                        \n",
       "month          07                          \n",
       "day            02                          \n",
       "svn rev        74947                       \n",
       "language       R                           \n",
       "version.string R version 3.5.1 (2018-07-02)\n",
       "nickname       Feather Spray               "
      ]
     },
     "metadata": {},
     "output_type": "display_data"
    },
    {
     "data": {
      "text/html": [
       "TRUE"
      ],
      "text/latex": [
       "TRUE"
      ],
      "text/markdown": [
       "TRUE"
      ],
      "text/plain": [
       "[1] TRUE"
      ]
     },
     "metadata": {},
     "output_type": "display_data"
    }
   ],
   "source": [
    "# library(MASS)\n",
    "head(iris[, 1:4])\n",
    "version\n",
    "\"corrgram\" %in% rownames(installed.packages())\n",
    "library(corrgram)"
   ]
  },
  {
   "cell_type": "markdown",
   "metadata": {},
   "source": [
    "# 실습\n",
    "<br>\n",
    "iris 란 이름의 꽃에서 Petal, Sepal 이라는 명칭의 부위에 대해 피어슨 상관계수 구하기\n",
    "<br>\n",
    "<img src=\"https://camo.githubusercontent.com/c0b36aa5b58790a606c04027468659502f3c1c92/687474703a2f2f73656261737469616e72617363686b612e636f6d2f696d616765732f626c6f672f323031342f6c696e6561722d6469736372696d696e616e742d616e616c797369732f697269735f706574616c5f736570616c2e706e67\" alt=\"iris\" width=\"250\">\n",
    "<br>\n",
    "\n",
    "## 결과 해석\n",
    "<br>\n",
    "아래의 결과를 통해서 Petal 의 길이(Petal.Length)와 Sepal 의 길이(Sepal.Length)는 양의 상관관계를 가진다. (인과는 아직 알 수 없다.)"
   ]
  },
  {
   "cell_type": "code",
   "execution_count": 36,
   "metadata": {},
   "outputs": [
    {
     "data": {
      "text/html": [
       "-0.117569784133002"
      ],
      "text/latex": [
       "-0.117569784133002"
      ],
      "text/markdown": [
       "-0.117569784133002"
      ],
      "text/plain": [
       "[1] -0.1175698"
      ]
     },
     "metadata": {},
     "output_type": "display_data"
    },
    {
     "data": {
      "text/html": [
       "<table>\n",
       "<thead><tr><th></th><th scope=col>Sepal.Length</th><th scope=col>Sepal.Width</th><th scope=col>Petal.Length</th><th scope=col>Petal.Width</th></tr></thead>\n",
       "<tbody>\n",
       "\t<tr><th scope=row>Sepal.Length</th><td> 1.0000000</td><td>-0.1175698</td><td> 0.8717538</td><td> 0.8179411</td></tr>\n",
       "\t<tr><th scope=row>Sepal.Width</th><td>-0.1175698</td><td> 1.0000000</td><td>-0.4284401</td><td>-0.3661259</td></tr>\n",
       "\t<tr><th scope=row>Petal.Length</th><td> 0.8717538</td><td>-0.4284401</td><td> 1.0000000</td><td> 0.9628654</td></tr>\n",
       "\t<tr><th scope=row>Petal.Width</th><td> 0.8179411</td><td>-0.3661259</td><td> 0.9628654</td><td> 1.0000000</td></tr>\n",
       "</tbody>\n",
       "</table>\n"
      ],
      "text/latex": [
       "\\begin{tabular}{r|llll}\n",
       "  & Sepal.Length & Sepal.Width & Petal.Length & Petal.Width\\\\\n",
       "\\hline\n",
       "\tSepal.Length &  1.0000000 & -0.1175698 &  0.8717538 &  0.8179411\\\\\n",
       "\tSepal.Width & -0.1175698 &  1.0000000 & -0.4284401 & -0.3661259\\\\\n",
       "\tPetal.Length &  0.8717538 & -0.4284401 &  1.0000000 &  0.9628654\\\\\n",
       "\tPetal.Width &  0.8179411 & -0.3661259 &  0.9628654 &  1.0000000\\\\\n",
       "\\end{tabular}\n"
      ],
      "text/markdown": [
       "\n",
       "| <!--/--> | Sepal.Length | Sepal.Width | Petal.Length | Petal.Width | \n",
       "|---|---|---|---|\n",
       "| Sepal.Length |  1.0000000 | -0.1175698 |  0.8717538 |  0.8179411 | \n",
       "| Sepal.Width | -0.1175698 |  1.0000000 | -0.4284401 | -0.3661259 | \n",
       "| Petal.Length |  0.8717538 | -0.4284401 |  1.0000000 |  0.9628654 | \n",
       "| Petal.Width |  0.8179411 | -0.3661259 |  0.9628654 |  1.0000000 | \n",
       "\n",
       "\n"
      ],
      "text/plain": [
       "             Sepal.Length Sepal.Width Petal.Length Petal.Width\n",
       "Sepal.Length  1.0000000   -0.1175698   0.8717538    0.8179411 \n",
       "Sepal.Width  -0.1175698    1.0000000  -0.4284401   -0.3661259 \n",
       "Petal.Length  0.8717538   -0.4284401   1.0000000    0.9628654 \n",
       "Petal.Width   0.8179411   -0.3661259   0.9628654    1.0000000 "
      ]
     },
     "metadata": {},
     "output_type": "display_data"
    },
    {
     "data": {
      "text/plain": [
       "             S.L S.W P.L P.W\n",
       "Sepal.Length 1              \n",
       "Sepal.Width      1          \n",
       "Petal.Length +   .   1      \n",
       "Petal.Width  +   .   B   1  \n",
       "attr(,\"legend\")\n",
       "[1] 0 ' ' 0.3 '.' 0.6 ',' 0.8 '+' 0.9 '*' 0.95 'B' 1"
      ]
     },
     "metadata": {},
     "output_type": "display_data"
    },
    {
     "data": {
      "image/png": "[encoded data removed]",
      "text/plain": [
       "plot without title"
      ]
     },
     "metadata": {},
     "output_type": "display_data"
    }
   ],
   "source": [
    "cor(iris$Sepal.Width, iris$Sepal.Length)\n",
    "# 모든 열의 피어슨 상관계수를 구한다.\n",
    "cor(iris[,1:4])\n",
    "# symnum 함수를 이용해 범위의 값을 문자로 치환한다.\n",
    "symnum(cor(iris[,1:4]))\n",
    "# corrgram 패키지를 통해 상관계수를 시각화 한다.\n",
    "corrgram(cor(iris[,1:4]), type=\"corr\", upper.panel=panel.conf)"
   ]
  },
  {
   "cell_type": "markdown",
   "metadata": {},
   "source": [
    "# 상관관계 유의성 체크\n",
    "<br>\n",
    "상관 관계의 유의성을 체크해보자.\n",
    "<br>\n",
    "<br>\n",
    "이때 귀무가설은 아래와 같다.\n",
    "<br>\n",
    "\n",
    "'H0(귀무가설, null hypothesis) : 상관 계수가 0이다.' \n",
    "\n",
    "'H1(대립가설, alternative hypothesis) : 상관 계수가 0이 아니다.'\n",
    "\n",
    "<br>\n",
    "\n",
    "위 귀무가설의 의미는 두 변인의 상관관계가 없음을 귀무가설로 놓고 가설 검증을 하는 것이다.\n",
    "<br>\n",
    "\n",
    "결과치는 아래와 같으며 p 값이 일반적인 유의수준(alpha, 0.05) 보다 작으므로 귀무가설을 기각한다. 즉, 상관 관계가 유의한 것으로 나타난다.\n",
    "\n",
    "> t = 17.296, df = 148, p-value < 2.2e-16\n",
    "\n",
    "p-value > alpha (유의수준) 일 때, 귀무 가설을 기각하지 못한다.\n",
    "\n",
    "<br>\n",
    "\n",
    "p-value < alpha (유의수준) 일 때, 귀무 가설을 기각할 수 있다."
   ]
  },
  {
   "cell_type": "code",
   "execution_count": 40,
   "metadata": {},
   "outputs": [
    {
     "data": {
      "text/plain": [
       "\n",
       "\tPearson's product-moment correlation\n",
       "\n",
       "data:  iris$Sepal.Length and iris$Petal.Width\n",
       "t = 17.296, df = 148, p-value < 2.2e-16\n",
       "alternative hypothesis: true correlation is not equal to 0\n",
       "95 percent confidence interval:\n",
       " 0.7568971 0.8648361\n",
       "sample estimates:\n",
       "      cor \n",
       "0.8179411 \n"
      ]
     },
     "metadata": {},
     "output_type": "display_data"
    }
   ],
   "source": [
    "cor.test(iris$Sepal.Length, iris$Petal.Width, method=\"pearson\")"
   ]
  },
  {
   "cell_type": "markdown",
   "metadata": {},
   "source": [
    "# 단측 검증을 통한 관계 파악\n",
    "\n",
    "<br>\n",
    "\n",
    "단측 검증을 통해 두 변수의 상관관계가 양인지 음인지 알 수 있다.\n",
    "\n",
    "<br>\n",
    "이때, alternative 옵션에서 \"greater\" 와 \"less\"를 지정할 수 있는데 각각은 분포에서 좌측 꼬리, 우측 꼬리이다. 단측 검증 결과 양의 상관관계를 가짐을 확인할 수 있다. "
   ]
  },
  {
   "cell_type": "code",
   "execution_count": 42,
   "metadata": {},
   "outputs": [
    {
     "data": {
      "text/plain": [
       "\n",
       "\tPearson's product-moment correlation\n",
       "\n",
       "data:  iris$Sepal.Length and iris$Petal.Width\n",
       "t = 17.296, df = 148, p-value < 2.2e-16\n",
       "alternative hypothesis: true correlation is greater than 0\n",
       "95 percent confidence interval:\n",
       " 0.767781 1.000000\n",
       "sample estimates:\n",
       "      cor \n",
       "0.8179411 \n"
      ]
     },
     "metadata": {},
     "output_type": "display_data"
    },
    {
     "data": {
      "text/plain": [
       "\n",
       "\tPearson's product-moment correlation\n",
       "\n",
       "data:  iris$Sepal.Length and iris$Petal.Width\n",
       "t = 17.296, df = 148, p-value = 1\n",
       "alternative hypothesis: true correlation is less than 0\n",
       "95 percent confidence interval:\n",
       " -1.000000  0.858136\n",
       "sample estimates:\n",
       "      cor \n",
       "0.8179411 \n"
      ]
     },
     "metadata": {},
     "output_type": "display_data"
    }
   ],
   "source": [
    "## 단측 검증\n",
    "cor.test(iris$Sepal.Length, iris$Petal.Width, method=\"pearson\", alternative=\"greater\")\n",
    "cor.test(iris$Sepal.Length, iris$Petal.Width, method=\"pearson\", alternative=\"less\")"
   ]
  }
 ],
 "metadata": {
  "kernelspec": {
   "display_name": "R",
   "language": "R",
   "name": "ir"
  },
  "language_info": {
   "codemirror_mode": "r",
   "file_extension": ".r",
   "mimetype": "text/x-r-source",
   "name": "R",
   "pygments_lexer": "r",
   "version": "3.5.1"
  }
 },
 "nbformat": 4,
 "nbformat_minor": 2
}
