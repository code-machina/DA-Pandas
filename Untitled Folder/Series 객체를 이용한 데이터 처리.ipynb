{
 "cells": [
  {
   "cell_type": "markdown",
   "metadata": {},
   "source": [
    "# Series 객체 활용 Part 2.\n",
    "\n",
    "Series 를 이용한 데이터 처리 방법을 알아보겠습니다. \n",
    "I gonna let you undertand how to handle pandas.Series Class in order to process (N,) 1-column-sized table.\n",
    "\n",
    "## 메서드 \n",
    "\n",
    "자주 사용하는 메서드 목록은 아래와 같습니다. \n",
    "the list of common methods is same as the below table. \n",
    "\n",
    "|.method|descr.|\n",
    "|:---:|:---:|\n",
    "|.read_csv| csv 파일을 읽고 데이터 객체로 변환한다. |\n",
    "|.tail| 맨 마지막에서 위로 5개(Default) 데이터 항목을 출력|\n",
    "|.head| 맨 위에서 아래로 5개(Default) 데이터 항목을 출력 |\n",
    "|.sort_values | 데이터를 기준으로 데이터를 정렬 |\n",
    "|.sort_values | 데이터를 기준으로 데이터를 정렬 |\n",
    "|.idxmax, .idxmin | 인덱스의 최대 혹은 최소 값을 출력 |\n",
    "|.sum, .mean, .count, .std, .min, .max, .median, .mode | 각각 데이터의 합, 평균, 데이터 항목 수, 표준편차, 최소 값, 최대 값, 중간값, 최빈값을 출력 |\n",
    "|.describe | 각종 통계, 사분위수 포함|\n",
    "|.value_counts| 고유한 값들에 대한 카운트를 출력 |\n",
    "|.apply(fnc, ...)| Series 데이터에 대해 함수를 실행, 분류값으로 사용할 수 있음 |\n",
    "|.map| 두개의 Series 객체를 value-key 로 맵핑하여 새로운 Series 객체를 출력|\n",
    "| (python-built-in) dir| 객체의 어트리뷰트 리스트를 출력|\n",
    "| (python-built-in) sorted | 데이터를 정렬하여 출력 |\n",
    "| (python-built-in) list |  객체를 list 타입으로 변환 |\n",
    "| (python-built-in) dict |  객체를 dict 타입으로 변환 |\n",
    "| (python-built-in) max, min |  데이터의 최대, 최소를 출력|\n"
   ]
  },
  {
   "cell_type": "code",
   "execution_count": 2,
   "metadata": {},
   "outputs": [],
   "source": [
    "import pandas as pd"
   ]
  },
  {
   "cell_type": "markdown",
   "metadata": {},
   "source": [
    "# Pokemon.csv 파일 로드\n",
    "\n",
    "pokemon.csv 파일을 읽어오고 info 메서드를 출력하여 데이터 칼럼 목록을 식별한다.  pokemon.csv 파일은 아래의 두 칼럼으로 구성되어 있다.   \n",
    "\n",
    "- Pokemon\n",
    "- Type\n",
    "\n",
    "read_csv 메서드의 index_cols, usecols 옵션을 지정하여 두 개의 Series 객체를 생성한다. \n",
    "\n",
    "- poket_name : 포켓몬 이름 칼럼\n",
    "- poket_types : 포켓몬 속성(불,물,땅,전기 등) 칼럼\n"
   ]
  },
  {
   "cell_type": "code",
   "execution_count": 13,
   "metadata": {},
   "outputs": [
    {
     "name": "stdout",
     "output_type": "stream",
     "text": [
      "<class 'pandas.core.frame.DataFrame'>\n",
      "RangeIndex: 721 entries, 0 to 720\n",
      "Data columns (total 2 columns):\n",
      "Pokemon    721 non-null object\n",
      "Type       721 non-null object\n",
      "dtypes: object(2)\n",
      "memory usage: 11.3+ KB\n"
     ]
    }
   ],
   "source": [
    "poket = pd.read_csv('../pokemon.csv')\n",
    "poket.info()"
   ]
  },
  {
   "cell_type": "code",
   "execution_count": 20,
   "metadata": {},
   "outputs": [
    {
     "data": {
      "text/plain": [
       "0     Bulbasaur\n",
       "1       Ivysaur\n",
       "2      Venusaur\n",
       "3    Charmander\n",
       "4    Charmeleon\n",
       "Name: Pokemon, dtype: object"
      ]
     },
     "execution_count": 20,
     "metadata": {},
     "output_type": "execute_result"
    }
   ],
   "source": [
    "poket_name = pd.read_csv('../pokemon.csv',usecols=['Pokemon'], squeeze=True)\n",
    "\n",
    "poket_name.head()"
   ]
  },
  {
   "cell_type": "code",
   "execution_count": 32,
   "metadata": {},
   "outputs": [
    {
     "data": {
      "text/plain": [
       "0    Grass\n",
       "1    Grass\n",
       "2    Grass\n",
       "3     Fire\n",
       "4     Fire\n",
       "Name: Type, dtype: object"
      ]
     },
     "execution_count": 32,
     "metadata": {},
     "output_type": "execute_result"
    }
   ],
   "source": [
    "poket_types = pd.read_csv('../pokemon.csv',usecols=['Type'], squeeze=True)\n",
    "\n",
    "poket_types.head()"
   ]
  },
  {
   "cell_type": "code",
   "execution_count": 27,
   "metadata": {},
   "outputs": [
    {
     "data": {
      "text/plain": [
       "(pandas.core.series.Series, pandas.core.series.Series)"
      ]
     },
     "execution_count": 27,
     "metadata": {},
     "output_type": "execute_result"
    }
   ],
   "source": [
    "type(poket_name), type(poket_types)"
   ]
  },
  {
   "cell_type": "markdown",
   "metadata": {},
   "source": [
    "# 포켓몬 이름과 속성을 결합하기\n",
    "\n",
    "만약에 \"피카추(Pikachu)\" 의 속성이 무엇인지 알고 싶다면 어떻게 해야할까요? \n",
    "\n",
    "아래는 poket_name Series 데이터의 일부입니다.\n",
    "\n",
    "|인덱스|속성|\n",
    "|:---:|:---:|\n",
    "|0 |  Bulbasaur |\n",
    "|1 |  Ivysaur |\n",
    "|2 |   Venusaur |\n",
    "|3 |    Charmander |\n",
    "|4 |   Charmeleon |\n",
    "\n",
    "또한, 아래는 poket_types Series 데이터의 일부입니다.\n",
    "\n",
    "|인덱스|속성|\n",
    "|:---:|:---:|\n",
    "|0 |  Grass |\n",
    "|1 |  Grass |\n",
    "|2 |   Grass |\n",
    "|3 |    Fire |\n",
    "|4 |   Fire |\n",
    "\n",
    "두 데이터의 인덱스는 일치한다고 가정합니다. 이 경우 피카추의 속성을 알기 위해서는 인덱스를 통해 접근해야 합니다. `.reindex` 와 "
   ]
  },
  {
   "cell_type": "code",
   "execution_count": 33,
   "metadata": {},
   "outputs": [
    {
     "data": {
      "text/plain": [
       "(Water       105\n",
       " Normal       93\n",
       " Grass        66\n",
       " Bug          63\n",
       " Psychic      47\n",
       " Fire         47\n",
       " Rock         41\n",
       " Electric     36\n",
       " Ground       30\n",
       " Poison       28\n",
       " Dark         28\n",
       " Fighting     25\n",
       " Dragon       24\n",
       " Ghost        23\n",
       " Ice          23\n",
       " Steel        22\n",
       " Fairy        17\n",
       " Flying        3\n",
       " Name: Type, dtype: int64, 18)"
      ]
     },
     "execution_count": 33,
     "metadata": {},
     "output_type": "execute_result"
    }
   ],
   "source": [
    "poket_types.value_counts(), poket_types.nunique()"
   ]
  },
  {
   "cell_type": "markdown",
   "metadata": {},
   "source": [
    "`.nunique()` 메서드를 통해 확인 결과 18개의 중복되지 않는 속성이 있음을 확인할 수 있었습니다. 새로운 Series 객체를 만듭니다. 이는 기존의 Index 와 Name 칼럼의 역할을 역전시킵니다. 그리고 `.map` 메서드를 이용해서 `inverse_poket_name` 과 `poket_types` 를 합칩니다."
   ]
  },
  {
   "cell_type": "code",
   "execution_count": 47,
   "metadata": {},
   "outputs": [
    {
     "data": {
      "text/plain": [
       "Bulbasaur     0\n",
       "Ivysaur       1\n",
       "Venusaur      2\n",
       "Charmander    3\n",
       "dtype: int64"
      ]
     },
     "execution_count": 47,
     "metadata": {},
     "output_type": "execute_result"
    }
   ],
   "source": [
    "inverse_poket_name = pd.Series(poket_name.index, poket_name.values)\n",
    "inverse_poket_name.head(4)"
   ]
  },
  {
   "cell_type": "code",
   "execution_count": 48,
   "metadata": {},
   "outputs": [
    {
     "data": {
      "text/plain": [
       "Bulbasaur     Grass\n",
       "Ivysaur       Grass\n",
       "Venusaur      Grass\n",
       "Charmander     Fire\n",
       "dtype: object"
      ]
     },
     "execution_count": 48,
     "metadata": {},
     "output_type": "execute_result"
    }
   ],
   "source": [
    "poket_name_type = inverse_poket_name.map(poket_types)\n",
    "# pd.concat([poket_types, poket_name], axis=1)\n",
    "poket_name_type.head(4)"
   ]
  },
  {
   "cell_type": "markdown",
   "metadata": {},
   "source": [
    "자 이제 `Pikachu` 를 출력할 일이 남았습니다. 분명 `Electric` 속성일 것으로 생각됩니다. 인덱스가 포켓몬의 이름이므로 `Pikachu` 를 인자로 넘겨줍니다.\n",
    "축하합니다. Pikachu 의 속성을 확인하셨네요. "
   ]
  },
  {
   "cell_type": "code",
   "execution_count": 50,
   "metadata": {},
   "outputs": [
    {
     "data": {
      "text/plain": [
       "'Electric'"
      ]
     },
     "execution_count": 50,
     "metadata": {},
     "output_type": "execute_result"
    }
   ],
   "source": [
    "poket_name_type['Pikachu']"
   ]
  },
  {
   "cell_type": "markdown",
   "metadata": {},
   "source": [
    "# 좀 더 쉬운 방법\n",
    "\n",
    "지금 까지의 작업은 두개의 별도의 시트가 있으며 동일한 숫자 키 값을 가지고 있다는 가정하에 진행되었습니다. 그러나, read_csv 메서드를 좀 더 잘 이해하면 일이 쉬워집니다.\n",
    "  \n",
    "  \n",
    "  \n",
    "index_col 에서 임의의 변수를 사용하기 위해서 N 개의 칼럼 중에서 M 개의 칼럼에 관심이 있는 경우 `usecols=['index_column_name', 'column_name_1', 'column_name_2'. ...]` 을 입력해야 합니다.그리고 `index_col='index_column_name'` 을 지정하면 원하는 대로 데이터가 생성됩니다. "
   ]
  },
  {
   "cell_type": "code",
   "execution_count": 59,
   "metadata": {},
   "outputs": [
    {
     "data": {
      "text/plain": [
       "Pokemon\n",
       "Bulbasaur     Grass\n",
       "Ivysaur       Grass\n",
       "Venusaur      Grass\n",
       "Charmander     Fire\n",
       "Name: Type, dtype: object"
      ]
     },
     "execution_count": 59,
     "metadata": {},
     "output_type": "execute_result"
    }
   ],
   "source": [
    "poket_name_type = pd.read_csv('../pokemon.csv', index_col='Pokemon', usecols=['Pokemon','Type'], squeeze=True)\n",
    "poket_name_type.head(4)"
   ]
  },
  {
   "cell_type": "markdown",
   "metadata": {},
   "source": [
    "자 이제 피카추를 찾아볼까요?\n",
    "**그렇습니다. 피카추는 전기(Electric) 속성입니다.**"
   ]
  },
  {
   "cell_type": "code",
   "execution_count": 61,
   "metadata": {},
   "outputs": [
    {
     "data": {
      "text/plain": [
       "'Electric'"
      ]
     },
     "execution_count": 61,
     "metadata": {},
     "output_type": "execute_result"
    }
   ],
   "source": [
    "poket_name_type['Pikachu']"
   ]
  },
  {
   "cell_type": "markdown",
   "metadata": {},
   "source": [
    "# 한글 패치\n",
    "\n",
    "만약에 우리가 영어를 모른다면 `Pikachu`가 `피카추` 인지를 알기 어려울 수 있습니다. 이 때 rename 을 사용하면 좋습니다. \n",
    "조금은 억지스러운 시나리오 이지만 이렇게 하나씩 치환해간다면 언젠가 번역이 끝나지 않을까요? :)"
   ]
  },
  {
   "cell_type": "code",
   "execution_count": 67,
   "metadata": {},
   "outputs": [
    {
     "data": {
      "text/plain": [
       "'Electric'"
      ]
     },
     "execution_count": 67,
     "metadata": {},
     "output_type": "execute_result"
    }
   ],
   "source": [
    "poket_name_type.rename(lambda x: '피카추' if x == 'Pikachu' else x)['피카추']"
   ]
  },
  {
   "cell_type": "markdown",
   "metadata": {},
   "source": [
    "# 인덱스 뒤로 미루기\n",
    "\n",
    "만약에 우리가 임포트한 CSV 파일의 순서가 뒤로 밀렸다고 가정합니다. 신규 포켓몬인 \"DeraDera\" 가 맨 앞에 배치되었습니다. 우리의 선택지는 다음과 같습니다. \n",
    "\n",
    "- 인덱스를 뒤로 미루거나 \n",
    "- 맨처음 데이터를 맨 뒤로 위치시키는 작업 "
   ]
  },
  {
   "cell_type": "code",
   "execution_count": 86,
   "metadata": {},
   "outputs": [
    {
     "data": {
      "text/plain": [
       "'Volcanion'"
      ]
     },
     "execution_count": 86,
     "metadata": {},
     "output_type": "execute_result"
    }
   ],
   "source": [
    "last_index = poket_name.index.max()\n",
    "last_one = poket_name[last_index]\n",
    "last_one\n",
    "# poket_name.tail(1).equals(last_one)"
   ]
  },
  {
   "cell_type": "code",
   "execution_count": 69,
   "metadata": {},
   "outputs": [
    {
     "ename": "TypeError",
     "evalue": "reduction operation 'argmax' not allowed for this dtype",
     "output_type": "error",
     "traceback": [
      "\u001b[1;31m---------------------------------------------------------------------------\u001b[0m",
      "\u001b[1;31mTypeError\u001b[0m                                 Traceback (most recent call last)",
      "\u001b[1;32m<ipython-input-69-8bec14439819>\u001b[0m in \u001b[0;36m<module>\u001b[1;34m()\u001b[0m\n\u001b[1;32m----> 1\u001b[1;33m \u001b[0mnext_index_number\u001b[0m \u001b[1;33m=\u001b[0m \u001b[0mpoket_name\u001b[0m\u001b[1;33m.\u001b[0m\u001b[0midxmax\u001b[0m\u001b[1;33m(\u001b[0m\u001b[1;33m)\u001b[0m \u001b[1;33m+\u001b[0m \u001b[1;36m1\u001b[0m\u001b[1;33m\u001b[0m\u001b[0m\n\u001b[0m\u001b[0;32m      2\u001b[0m \u001b[0mpoket_name\u001b[0m\u001b[1;33m.\u001b[0m\u001b[0mappend\u001b[0m\u001b[1;33m(\u001b[0m\u001b[0mpd\u001b[0m\u001b[1;33m.\u001b[0m\u001b[0mSeries\u001b[0m\u001b[1;33m(\u001b[0m\u001b[1;33m[\u001b[0m\u001b[1;34m'DeraDera'\u001b[0m\u001b[1;33m]\u001b[0m\u001b[1;33m,\u001b[0m \u001b[0mindex\u001b[0m\u001b[1;33m=\u001b[0m\u001b[1;33m[\u001b[0m\u001b[0mnext_index_number\u001b[0m\u001b[1;33m]\u001b[0m\u001b[1;33m)\u001b[0m\u001b[1;33m)\u001b[0m\u001b[1;33m\u001b[0m\u001b[0m\n\u001b[0;32m      3\u001b[0m \u001b[0mpoket_name\u001b[0m\u001b[1;33m.\u001b[0m\u001b[0mtail\u001b[0m\u001b[1;33m(\u001b[0m\u001b[1;36m3\u001b[0m\u001b[1;33m)\u001b[0m\u001b[1;33m\u001b[0m\u001b[0m\n",
      "\u001b[1;32mC:\\ProgramData\\Anaconda3\\lib\\site-packages\\pandas\\core\\series.py\u001b[0m in \u001b[0;36midxmax\u001b[1;34m(self, axis, skipna, *args, **kwargs)\u001b[0m\n\u001b[0;32m   1783\u001b[0m         \"\"\"\n\u001b[0;32m   1784\u001b[0m         \u001b[0mskipna\u001b[0m \u001b[1;33m=\u001b[0m \u001b[0mnv\u001b[0m\u001b[1;33m.\u001b[0m\u001b[0mvalidate_argmax_with_skipna\u001b[0m\u001b[1;33m(\u001b[0m\u001b[0mskipna\u001b[0m\u001b[1;33m,\u001b[0m \u001b[0margs\u001b[0m\u001b[1;33m,\u001b[0m \u001b[0mkwargs\u001b[0m\u001b[1;33m)\u001b[0m\u001b[1;33m\u001b[0m\u001b[0m\n\u001b[1;32m-> 1785\u001b[1;33m         \u001b[0mi\u001b[0m \u001b[1;33m=\u001b[0m \u001b[0mnanops\u001b[0m\u001b[1;33m.\u001b[0m\u001b[0mnanargmax\u001b[0m\u001b[1;33m(\u001b[0m\u001b[0mcom\u001b[0m\u001b[1;33m.\u001b[0m\u001b[0m_values_from_object\u001b[0m\u001b[1;33m(\u001b[0m\u001b[0mself\u001b[0m\u001b[1;33m)\u001b[0m\u001b[1;33m,\u001b[0m \u001b[0mskipna\u001b[0m\u001b[1;33m=\u001b[0m\u001b[0mskipna\u001b[0m\u001b[1;33m)\u001b[0m\u001b[1;33m\u001b[0m\u001b[0m\n\u001b[0m\u001b[0;32m   1786\u001b[0m         \u001b[1;32mif\u001b[0m \u001b[0mi\u001b[0m \u001b[1;33m==\u001b[0m \u001b[1;33m-\u001b[0m\u001b[1;36m1\u001b[0m\u001b[1;33m:\u001b[0m\u001b[1;33m\u001b[0m\u001b[0m\n\u001b[0;32m   1787\u001b[0m             \u001b[1;32mreturn\u001b[0m \u001b[0mnp\u001b[0m\u001b[1;33m.\u001b[0m\u001b[0mnan\u001b[0m\u001b[1;33m\u001b[0m\u001b[0m\n",
      "\u001b[1;32mC:\\ProgramData\\Anaconda3\\lib\\site-packages\\pandas\\core\\nanops.py\u001b[0m in \u001b[0;36m_f\u001b[1;34m(*args, **kwargs)\u001b[0m\n\u001b[0;32m     72\u001b[0m             \u001b[1;32mif\u001b[0m \u001b[0many\u001b[0m\u001b[1;33m(\u001b[0m\u001b[0mself\u001b[0m\u001b[1;33m.\u001b[0m\u001b[0mcheck\u001b[0m\u001b[1;33m(\u001b[0m\u001b[0mobj\u001b[0m\u001b[1;33m)\u001b[0m \u001b[1;32mfor\u001b[0m \u001b[0mobj\u001b[0m \u001b[1;32min\u001b[0m \u001b[0mobj_iter\u001b[0m\u001b[1;33m)\u001b[0m\u001b[1;33m:\u001b[0m\u001b[1;33m\u001b[0m\u001b[0m\n\u001b[0;32m     73\u001b[0m                 \u001b[0mmsg\u001b[0m \u001b[1;33m=\u001b[0m \u001b[1;34m'reduction operation {name!r} not allowed for this dtype'\u001b[0m\u001b[1;33m\u001b[0m\u001b[0m\n\u001b[1;32m---> 74\u001b[1;33m                 \u001b[1;32mraise\u001b[0m \u001b[0mTypeError\u001b[0m\u001b[1;33m(\u001b[0m\u001b[0mmsg\u001b[0m\u001b[1;33m.\u001b[0m\u001b[0mformat\u001b[0m\u001b[1;33m(\u001b[0m\u001b[0mname\u001b[0m\u001b[1;33m=\u001b[0m\u001b[0mf\u001b[0m\u001b[1;33m.\u001b[0m\u001b[0m__name__\u001b[0m\u001b[1;33m.\u001b[0m\u001b[0mreplace\u001b[0m\u001b[1;33m(\u001b[0m\u001b[1;34m'nan'\u001b[0m\u001b[1;33m,\u001b[0m \u001b[1;34m''\u001b[0m\u001b[1;33m)\u001b[0m\u001b[1;33m)\u001b[0m\u001b[1;33m)\u001b[0m\u001b[1;33m\u001b[0m\u001b[0m\n\u001b[0m\u001b[0;32m     75\u001b[0m             \u001b[1;32mtry\u001b[0m\u001b[1;33m:\u001b[0m\u001b[1;33m\u001b[0m\u001b[0m\n\u001b[0;32m     76\u001b[0m                 \u001b[1;32mwith\u001b[0m \u001b[0mnp\u001b[0m\u001b[1;33m.\u001b[0m\u001b[0merrstate\u001b[0m\u001b[1;33m(\u001b[0m\u001b[0minvalid\u001b[0m\u001b[1;33m=\u001b[0m\u001b[1;34m'ignore'\u001b[0m\u001b[1;33m)\u001b[0m\u001b[1;33m:\u001b[0m\u001b[1;33m\u001b[0m\u001b[0m\n",
      "\u001b[1;31mTypeError\u001b[0m: reduction operation 'argmax' not allowed for this dtype"
     ]
    }
   ],
   "source": [
    "next_index_number = poket_name .idxmax() + 1\n",
    "poket_name.append(pd.Series(['DeraDera'], index=[next_index_number]))\n",
    "poket_name.tail(3)"
   ]
  }
 ],
 "metadata": {
  "kernelspec": {
   "display_name": "Python 3",
   "language": "python",
   "name": "python3"
  },
  "language_info": {
   "codemirror_mode": {
    "name": "ipython",
    "version": 3
   },
   "file_extension": ".py",
   "mimetype": "text/x-python",
   "name": "python",
   "nbconvert_exporter": "python",
   "pygments_lexer": "ipython3",
   "version": "3.7.0"
  }
 },
 "nbformat": 4,
 "nbformat_minor": 2
}
